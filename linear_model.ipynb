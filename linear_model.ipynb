{
 "cells": [
  {
   "cell_type": "markdown",
   "metadata": {},
   "source": [
    "Exploratory data analysis using ANOVA:"
   ]
  },
  {
   "cell_type": "code",
   "execution_count": 178,
   "metadata": {},
   "outputs": [
    {
     "data": {
      "text/plain": [
       "F_onewayResult(statistic=2.7849569187612762, pvalue=0.096270975783822321)"
      ]
     },
     "execution_count": 178,
     "metadata": {},
     "output_type": "execute_result"
    }
   ],
   "source": [
    "import scipy.stats as stats\n",
    "\n",
    "diabetic = X[:, 17 - 1] == 1\n",
    "stats.f_oneway(Y[diabetic], Y[np.logical_not(diabetic)])"
   ]
  },
  {
   "cell_type": "markdown",
   "metadata": {},
   "source": [
    "ANOVA indicates a p-value of 0.09, a little promising. Now let's try basic logistic regression:"
   ]
  },
  {
   "cell_type": "code",
   "execution_count": 180,
   "metadata": {},
   "outputs": [
    {
     "name": "stdout",
     "output_type": "stream",
     "text": [
      "KFold(n_splits=4, random_state=None, shuffle=False)\n",
      "[50] 0.758400402414\n",
      "[50, 8] 0.776106639839\n",
      "[50, 8, 31] 0.8046277666\n",
      "[50, 8, 31, 43] 0.829426559356\n",
      "[50, 8, 31, 43, 28] 0.836519114688\n",
      "[50, 8, 31, 43, 28, 21] 0.843661971831\n",
      "[50, 8, 31, 43, 28, 21, 38] 0.843661971831\n",
      "[50, 8, 31, 43, 28, 21, 38, 34] 0.843712273642\n",
      "[50, 8, 31, 43, 28, 21, 38, 34, 23] 0.84014084507\n",
      "[50, 8, 31, 43, 28, 21, 38, 34, 23, 56] 0.84014084507\n"
     ]
    },
    {
     "data": {
      "text/plain": [
       "[50, 8, 31, 43, 28, 21, 38, 34, 23, 56]"
      ]
     },
     "execution_count": 180,
     "metadata": {},
     "output_type": "execute_result"
    }
   ],
   "source": [
    "from sklearn import linear_model\n",
    "from sklearn.model_selection import KFold\n",
    "\n",
    "\n",
    "kf.get_n_splits(X)\n",
    "print(kf)\n",
    "\n",
    "def kfold_validate (X_sub, k):\n",
    "    kf = KFold(n_splits = k)\n",
    "    sum = 0\n",
    "    for train, test in kf.split(X_sub):\n",
    "        reg = linear_model.LogisticRegression()\n",
    "        reg.fit(X_sub[train], Y[train])\n",
    "        sum += (reg.score(X_sub[test], Y[test]))\n",
    "    return sum / k\n",
    "        \n",
    "def filter_select(X, Y, num_features):\n",
    "    # ignore the bad columns\n",
    "    avail_features = list(range(0, 75))\n",
    "    for garbage_col in columns_to_exclude:\n",
    "        avail_features.remove(garbage_col)\n",
    "        \n",
    "    included_features = [] #[17 - 1] # diabetes    \n",
    "    for i in range(num_features):\n",
    "        best_feature = -1\n",
    "        best_score = -1\n",
    "        for feature in avail_features:\n",
    "            score = kfold_validate(X[:,included_features + [feature]], 4)\n",
    "            if score > best_score:\n",
    "                best_score = score\n",
    "                best_feature = feature\n",
    "        included_features += [best_feature]\n",
    "        avail_features.remove(best_feature)\n",
    "        print(included_features, best_score)\n",
    "    return included_features\n",
    "            \n",
    "filter_select(X, Y, 10)\n",
    "#for i in range(76):\n",
    "#    reg = linear_model.LogisticRegression()\n",
    "#    reg.fit(X, Y)\n",
    "#    reg.coef_"
   ]
  },
  {
   "cell_type": "code",
   "execution_count": 146,
   "metadata": {},
   "outputs": [
    {
     "data": {
      "text/plain": [
       "(5.6879999999999997, 3.7006369426751591)"
      ]
     },
     "execution_count": 146,
     "metadata": {},
     "output_type": "execute_result"
    }
   ],
   "source": [
    "np.mean(X[Y==1, 50]),np.mean(X[Y==0, 50])"
   ]
  },
  {
   "cell_type": "code",
   "execution_count": null,
   "metadata": {
    "collapsed": true
   },
   "outputs": [],
   "source": [
    "from scipy.stats import linregress\n",
    "\n"
   ]
  }
 ],
 "metadata": {
  "kernelspec": {
   "display_name": "Python 3",
   "language": "python",
   "name": "python3"
  },
  "language_info": {
   "codemirror_mode": {
    "name": "ipython",
    "version": 3
   },
   "file_extension": ".py",
   "mimetype": "text/x-python",
   "name": "python",
   "nbconvert_exporter": "python",
   "pygments_lexer": "ipython3",
   "version": "3.6.2"
  }
 },
 "nbformat": 4,
 "nbformat_minor": 2
}

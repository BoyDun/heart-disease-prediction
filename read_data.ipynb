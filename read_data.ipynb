{
 "cells": [
  {
   "cell_type": "code",
   "execution_count": 116,
   "metadata": {},
   "outputs": [],
   "source": [
    "import numpy as np\n",
    "\n",
    "filename = \"cleveland.data\"\n",
    "\n",
    "to_int = np.vectorize(float)\n",
    "\n",
    "with open(filename, 'r', encoding='ascii') as f:\n",
    "    values = [word for line in f for word in line.split()]\n",
    "    data_processed = np.reshape(np.array(values), (-1, 76))\n",
    "\n",
    "# exclude the predictor\n",
    "X = to_int(np.delete(data_processed, [58 - 1, 76-1], 1))\n",
    "Y = to_int(data_processed[:, 58 - 1])\n",
    "\n",
    "# diabetic?\n",
    "d = data_processed[:, 17 - 1]"
   ]
  },
  {
   "cell_type": "code",
   "execution_count": 118,
   "metadata": {},
   "outputs": [
    {
     "data": {
      "text/plain": [
       "array([[   1.,    0.,   63., ...,    1.,   -9.,   -9.],\n",
       "       [   2.,    0.,   67., ...,    1.,   -9.,   -9.],\n",
       "       [   3.,    0.,   67., ...,    3.,   -9.,   -9.],\n",
       "       ..., \n",
       "       [ 296.,    0.,   58., ...,    1.,   -9.,   -9.],\n",
       "       [ 297.,    0.,   57., ...,    1.,   -9.,   -9.],\n",
       "       [ 298.,    0.,   47., ...,    1.,   -9.,   -9.]])"
      ]
     },
     "execution_count": 118,
     "metadata": {},
     "output_type": "execute_result"
    }
   ],
   "source": [
    "X"
   ]
  },
  {
   "cell_type": "code",
   "execution_count": null,
   "metadata": {
    "collapsed": true
   },
   "outputs": [],
   "source": []
  }
 ],
 "metadata": {
  "kernelspec": {
   "display_name": "Python 3",
   "language": "python",
   "name": "python3"
  },
  "language_info": {
   "codemirror_mode": {
    "name": "ipython",
    "version": 3
   },
   "file_extension": ".py",
   "mimetype": "text/x-python",
   "name": "python",
   "nbconvert_exporter": "python",
   "pygments_lexer": "ipython3",
   "version": "3.6.2"
  }
 },
 "nbformat": 4,
 "nbformat_minor": 2
}

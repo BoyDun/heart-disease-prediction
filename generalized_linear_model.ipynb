{
 "cells": [
  {
   "cell_type": "markdown",
   "metadata": {},
   "source": [
    "# GLM Experiments\n",
    "\n",
    "This notebook contains experiments on predicting heart disease using generalized linear models."
   ]
  },
  {
   "cell_type": "code",
   "execution_count": 73,
   "metadata": {
    "collapsed": true
   },
   "outputs": [],
   "source": [
    "import pandas as pd\n",
    "import numpy as np\n",
    "\n",
    "X_pd = pd.read_csv('229_processed_cleveland.data')\n",
    "del X_pd['Unnamed: 0']\n",
    "Y_pd = pd.read_csv('229_processed_cleveland_Y.data', header=None)"
   ]
  },
  {
   "cell_type": "code",
   "execution_count": 74,
   "metadata": {
    "collapsed": true
   },
   "outputs": [],
   "source": [
    "# pandas -> numpy\n",
    "X = X_pd.values\n",
    "Y = Y_pd.values[:,1]"
   ]
  },
  {
   "cell_type": "code",
   "execution_count": 75,
   "metadata": {},
   "outputs": [],
   "source": [
    "from sklearn.utils import shuffle\n",
    "from sklearn.model_selection import train_test_split\n",
    "\n",
    "X_train, X_test, Y_train, Y_test = train_test_split(\n",
    "    X, Y, test_size=0.1)"
   ]
  },
  {
   "cell_type": "markdown",
   "metadata": {},
   "source": [
    "## Forward feature selection\n",
    "\n",
    "This method allows us to pass in a model and run forward feature selection on it."
   ]
  },
  {
   "cell_type": "code",
   "execution_count": 76,
   "metadata": {},
   "outputs": [],
   "source": [
    "from sklearn import linear_model\n",
    "from sklearn.model_selection import KFold\n",
    "import matplotlib.pyplot as plt\n",
    "\n",
    "def kfold_validate (X_sub, k, model):\n",
    "    kf = KFold(n_splits = k)\n",
    "    sum = 0\n",
    "    for train, test in kf.split(X_sub):\n",
    "        reg = model\n",
    "        reg.fit(X_sub[train], Y_train[train])\n",
    "        sum += (reg.score(X_sub[test], Y_train[test]))\n",
    "    return reg, sum / k\n",
    "        \n",
    "def filter_select(X, Y, num_features, model):\n",
    "    # ignore the bad columns\n",
    "    avail_features = list(range(0, np.shape(X)[1]))\n",
    "        \n",
    "    included_features = [] #[17 - 1] # diabetes'\n",
    "    \n",
    "    best_kfold_score = -1\n",
    "    best_featureset = []\n",
    "    best_model_overall = None\n",
    "    \n",
    "    for i in range(num_features):\n",
    "        best_feature = -1\n",
    "        best_score = -1\n",
    "        best_model = None\n",
    "        \n",
    "        for feature in avail_features:\n",
    "            model, score = kfold_validate(X_train[:,included_features + [feature]], 5, model)\n",
    "            if score > best_score:\n",
    "                best_score = score\n",
    "                best_feature = feature\n",
    "                best_model = model\n",
    "        included_features += [best_feature]\n",
    "        avail_features.remove(best_feature)\n",
    "        if (best_score > best_kfold_score):\n",
    "            best_kfold_score = score\n",
    "            best_featureset = included_features\n",
    "            best_model_overall = best_model\n",
    "        print(best_score)\n",
    "    print('Best featureset:', list(map(lambda x: X_pd.keys()[x], best_featureset)))\n",
    "    print('Test score:', best_model_overall.score(X_test[:, best_featureset], Y_test))\n",
    "    return included_features"
   ]
  },
  {
   "cell_type": "markdown",
   "metadata": {},
   "source": [
    "## Experiment 1: Logistic Regression on Uncertain Features\n",
    "\n",
    "This is a straightforward logistic regression. We run it on the features that aren't all the same for healthy individuals."
   ]
  },
  {
   "cell_type": "code",
   "execution_count": 80,
   "metadata": {},
   "outputs": [],
   "source": [
    "X_full_pd = pd.read_csv('229_processed_cleveland.data')\n",
    "del X_full_pd['Unnamed: 0']\n",
    "Y_full_pd = pd.read_csv('229_processed_cleveland_Y_full.data', header=None)\n",
    "# pandas -> numpy\n",
    "X_full = X_full_pd.values\n",
    "Y_full = Y_full_pd.values[:,1]"
   ]
  },
  {
   "cell_type": "code",
   "execution_count": 78,
   "metadata": {},
   "outputs": [
    {
     "name": "stdout",
     "output_type": "stream",
     "text": [
      "0.762823529412\n",
      "0.786588235294\n",
      "0.853725490196\n",
      "0.853725490196\n",
      "0.857647058824\n",
      "0.865568627451\n",
      "0.865568627451\n",
      "0.865568627451\n",
      "0.865568627451\n",
      "0.865568627451\n",
      "0.861647058824\n",
      "0.861647058824\n",
      "0.857647058824\n",
      "0.857725490196\n",
      "0.861725490196\n",
      "0.865647058824\n",
      "0.865647058824\n",
      "0.865647058824\n",
      "0.865568627451\n",
      "0.861647058824\n",
      "0.857725490196\n",
      "0.857725490196\n",
      "0.857725490196\n",
      "0.857725490196\n",
      "0.853803921569\n",
      "0.853803921569\n",
      "0.845960784314\n",
      "0.849882352941\n",
      "0.845960784314\n",
      "0.842039215686\n",
      "0.834196078431\n",
      "0.826117647059\n",
      "0.842117647059\n",
      "0.834117647059\n",
      "0.834039215686\n",
      "0.838039215686\n",
      "0.834117647059\n",
      "0.834117647059\n",
      "0.834117647059\n",
      "0.838039215686\n",
      "Best featureset: ['thal3', 'ca', 'exang', 'cigs', 'tpeakbps', 'id', 'prop', 'xhypo', 'restecg1', 'thal-9', 'dm', 'dm_invalid', 'thal6', 'lvx3', 'met', 'cmo', 'ekgmo', 'slope3', 'fbs', 'years', 'lvf', 'htn', 'ekgyr', 'cyr', 'thaldur', 'cp1', 'cday', 'lvx4', 'famhist', 'tpeakbpd', 'chol', 'thaltime', 'restecg2', 'oldpeak', 'cp3', 'cp2', 'slope1', 'restecg0', 'nitr', 'thal7']\n",
      "Test score: 0.862068965517\n"
     ]
    },
    {
     "data": {
      "text/plain": [
       "[50,\n",
       " 32,\n",
       " 28,\n",
       " 6,\n",
       " 24,\n",
       " 0,\n",
       " 15,\n",
       " 29,\n",
       " 45,\n",
       " 52,\n",
       " 9,\n",
       " 53,\n",
       " 49,\n",
       " 36,\n",
       " 21,\n",
       " 33,\n",
       " 11,\n",
       " 46,\n",
       " 8,\n",
       " 7,\n",
       " 38,\n",
       " 4,\n",
       " 13,\n",
       " 35,\n",
       " 19,\n",
       " 39,\n",
       " 34,\n",
       " 37,\n",
       " 10,\n",
       " 25,\n",
       " 5,\n",
       " 20,\n",
       " 43,\n",
       " 30,\n",
       " 41,\n",
       " 42,\n",
       " 48,\n",
       " 44,\n",
       " 16,\n",
       " 51]"
      ]
     },
     "execution_count": 78,
     "metadata": {},
     "output_type": "execute_result"
    }
   ],
   "source": [
    "filter_select(X_train, Y_train, 40, linear_model.LogisticRegression())"
   ]
  },
  {
   "cell_type": "markdown",
   "metadata": {},
   "source": [
    "## Experiment 2: Original features\n",
    "Extracting the original features and testing them."
   ]
  },
  {
   "cell_type": "code",
   "execution_count": 117,
   "metadata": {},
   "outputs": [
    {
     "name": "stdout",
     "output_type": "stream",
     "text": [
      "Number of predictors: 23\n"
     ]
    }
   ],
   "source": [
    "orig_feats = ['age', 'sex', 'cp', 'trestbps', 'chol', 'fbs', 'restecg', 'thalach', 'exang', 'oldpeak', 'slope', 'ca', 'thal', 'num']\n",
    "feat_indices = []\n",
    "for i in range(len(X_pd.keys())):\n",
    "    k = X_pd.keys()[i]\n",
    "    for o in orig_feats:\n",
    "        if k == o or (k.startswith(o) and k[len(k) - 1].isnumeric()):\n",
    "            feat_indices.append(i)\n",
    "print(\"Number of predictors:\", len(feat_indices))"
   ]
  },
  {
   "cell_type": "code",
   "execution_count": 118,
   "metadata": {},
   "outputs": [],
   "source": [
    "def filter_select_orig(X, Y, num_features, model):\n",
    "    # ignore the bad columns\n",
    "    avail_features = feat_indices[:]\n",
    "        \n",
    "    included_features = [] #[17 - 1] # diabetes'\n",
    "    \n",
    "    best_kfold_score = -1\n",
    "    best_featureset = []\n",
    "    best_model_overall = None\n",
    "    \n",
    "    for i in range(num_features):\n",
    "        best_feature = -1\n",
    "        best_score = -1\n",
    "        best_model = None\n",
    "        \n",
    "        for feature in avail_features:\n",
    "            model, score = kfold_validate(X_train[:,included_features + [feature]], 5, model)\n",
    "            if score > best_score:\n",
    "                best_score = score\n",
    "                best_feature = feature\n",
    "                best_model = model\n",
    "        included_features += [best_feature]\n",
    "        avail_features.remove(best_feature)\n",
    "        if (best_score > best_kfold_score):\n",
    "            best_kfold_score = score\n",
    "            best_featureset = included_features\n",
    "            best_model_overall = best_model\n",
    "        print(best_score)\n",
    "    print('Best featureset:', list(map(lambda x: X_pd.keys()[x], best_featureset)))\n",
    "    print('Test score:', best_model_overall.score(X_test[:, best_featureset], Y_test))\n",
    "    return included_features"
   ]
  },
  {
   "cell_type": "code",
   "execution_count": 119,
   "metadata": {},
   "outputs": [
    {
     "name": "stdout",
     "output_type": "stream",
     "text": [
      "0.762823529412\n",
      "0.786588235294\n",
      "0.853725490196\n",
      "0.853725490196\n",
      "0.853725490196\n",
      "0.853725490196\n",
      "0.853647058824\n",
      "0.857568627451\n",
      "0.853647058824\n",
      "0.845803921569\n",
      "0.841803921569\n",
      "0.837960784314\n",
      "0.830039215686\n",
      "0.822117647059\n",
      "0.817960784314\n",
      "0.845568627451\n",
      "0.845490196078\n",
      "0.845411764706\n",
      "0.841411764706\n",
      "0.845411764706\n",
      "0.837411764706\n",
      "0.837647058824\n",
      "0.837647058824\n",
      "Best featureset: ['thal3', 'ca', 'exang', 'restecg1', 'thal6', 'cp2', 'thalach', 'slope3', 'thal-9', 'cp1', 'thal7', 'chol', 'age', 'fbs', 'cp4', 'oldpeak', 'sex', 'cp3', 'slope2', 'slope1', 'trestbps', 'restecg0', 'restecg2']\n",
      "Test score: 0.758620689655\n"
     ]
    },
    {
     "data": {
      "text/plain": [
       "[50,\n",
       " 32,\n",
       " 28,\n",
       " 45,\n",
       " 49,\n",
       " 42,\n",
       " 22,\n",
       " 46,\n",
       " 52,\n",
       " 39,\n",
       " 51,\n",
       " 5,\n",
       " 1,\n",
       " 8,\n",
       " 40,\n",
       " 30,\n",
       " 2,\n",
       " 41,\n",
       " 47,\n",
       " 48,\n",
       " 3,\n",
       " 44,\n",
       " 43]"
      ]
     },
     "execution_count": 119,
     "metadata": {},
     "output_type": "execute_result"
    }
   ],
   "source": [
    "filter_select_orig(X_train, Y_train, len(feat_indices), linear_model.LogisticRegression())"
   ]
  },
  {
   "cell_type": "code",
   "execution_count": 120,
   "metadata": {},
   "outputs": [
    {
     "name": "stdout",
     "output_type": "stream",
     "text": [
      "0.762823529412\n",
      "0.786588235294\n",
      "0.818196078431\n",
      "0.829960784314\n",
      "0.837960784314\n",
      "0.841882352941\n",
      "0.845803921569\n",
      "0.849725490196\n",
      "0.849725490196\n",
      "0.845803921569\n",
      "0.837960784314\n",
      "0.845882352941\n",
      "0.849568627451\n",
      "0.865411764706\n",
      "0.865411764706\n",
      "0.865411764706\n",
      "0.865411764706\n",
      "0.857490196078\n",
      "0.853490196078\n",
      "0.793490196078\n",
      "0.829333333333\n",
      "0.774509803922\n",
      "0.63937254902\n",
      "Best featureset: ['thal3', 'ca', 'cp4', 'restecg2', 'exang', 'fbs', 'slope3', 'restecg0', 'restecg1', 'cp2', 'sex', 'thal6', 'slope1', 'oldpeak', 'slope2', 'thal7', 'thal-9', 'cp1', 'cp3', 'thalach', 'trestbps', 'age', 'chol']\n",
      "Test score: 0.275862068966\n"
     ]
    },
    {
     "data": {
      "text/plain": [
       "[50,\n",
       " 32,\n",
       " 40,\n",
       " 43,\n",
       " 28,\n",
       " 8,\n",
       " 46,\n",
       " 44,\n",
       " 45,\n",
       " 42,\n",
       " 2,\n",
       " 49,\n",
       " 48,\n",
       " 30,\n",
       " 47,\n",
       " 51,\n",
       " 52,\n",
       " 39,\n",
       " 41,\n",
       " 22,\n",
       " 3,\n",
       " 1,\n",
       " 5]"
      ]
     },
     "execution_count": 120,
     "metadata": {},
     "output_type": "execute_result"
    }
   ],
   "source": [
    "from sklearn import svm\n",
    "\n",
    "filter_select_orig(X_train, Y_train, len(feat_indices), svm.LinearSVC())"
   ]
  },
  {
   "cell_type": "code",
   "execution_count": null,
   "metadata": {},
   "outputs": [
    {
     "name": "stdout",
     "output_type": "stream",
     "text": [
      "0.762823529412\n",
      "0.778588235294\n",
      "0.818196078431\n",
      "0.837803921569\n",
      "0.849647058824\n",
      "0.853725490196\n",
      "0.857647058824\n",
      "0.861647058824\n",
      "0.865647058824\n",
      "0.865647058824\n",
      "0.865647058824\n",
      "0.865647058824\n",
      "0.865647058824\n",
      "0.861725490196\n",
      "0.849803921569\n",
      "0.849803921569\n",
      "0.849803921569\n",
      "0.849647058824\n",
      "0.857647058824\n",
      "0.861568627451\n",
      "0.861568627451\n",
      "0.865725490196\n",
      "0.869568627451\n",
      "0.865568627451\n"
     ]
    }
   ],
   "source": [
    "from sklearn import svm\n",
    "\n",
    "filter_select(X_train, Y_train, 40, svm.LinearSVC())"
   ]
  },
  {
   "cell_type": "code",
   "execution_count": 112,
   "metadata": {},
   "outputs": [
    {
     "data": {
      "text/plain": [
       "[]"
      ]
     },
     "execution_count": 112,
     "metadata": {},
     "output_type": "execute_result"
    }
   ],
   "source": [
    "feat_indices"
   ]
  },
  {
   "cell_type": "code",
   "execution_count": 5,
   "metadata": {},
   "outputs": [
    {
     "ename": "TypeError",
     "evalue": "unhashable type: 'slice'",
     "output_type": "error",
     "traceback": [
      "\u001b[0;31m---------------------------------------------------------------------------\u001b[0m",
      "\u001b[0;31mTypeError\u001b[0m                                 Traceback (most recent call last)",
      "\u001b[0;32m<ipython-input-5-447c8f04568f>\u001b[0m in \u001b[0;36m<module>\u001b[0;34m()\u001b[0m\n\u001b[1;32m      1\u001b[0m \u001b[0;32mimport\u001b[0m \u001b[0mscipy\u001b[0m\u001b[0;34m.\u001b[0m\u001b[0mstats\u001b[0m \u001b[0;32mas\u001b[0m \u001b[0mstats\u001b[0m\u001b[0;34m\u001b[0m\u001b[0m\n\u001b[1;32m      2\u001b[0m \u001b[0;34m\u001b[0m\u001b[0m\n\u001b[0;32m----> 3\u001b[0;31m \u001b[0mdiabetic\u001b[0m \u001b[0;34m=\u001b[0m \u001b[0mX\u001b[0m\u001b[0;34m[\u001b[0m\u001b[0;34m:\u001b[0m\u001b[0;34m,\u001b[0m \u001b[0;36m17\u001b[0m \u001b[0;34m-\u001b[0m \u001b[0;36m1\u001b[0m\u001b[0;34m]\u001b[0m \u001b[0;34m==\u001b[0m \u001b[0;36m1\u001b[0m\u001b[0;34m\u001b[0m\u001b[0m\n\u001b[0m\u001b[1;32m      4\u001b[0m \u001b[0mstats\u001b[0m\u001b[0;34m.\u001b[0m\u001b[0mf_oneway\u001b[0m\u001b[0;34m(\u001b[0m\u001b[0mY\u001b[0m\u001b[0;34m[\u001b[0m\u001b[0mdiabetic\u001b[0m\u001b[0;34m]\u001b[0m\u001b[0;34m,\u001b[0m \u001b[0mY\u001b[0m\u001b[0;34m[\u001b[0m\u001b[0mnp\u001b[0m\u001b[0;34m.\u001b[0m\u001b[0mlogical_not\u001b[0m\u001b[0;34m(\u001b[0m\u001b[0mdiabetic\u001b[0m\u001b[0;34m)\u001b[0m\u001b[0;34m]\u001b[0m\u001b[0;34m)\u001b[0m\u001b[0;34m\u001b[0m\u001b[0m\n",
      "\u001b[0;32m~/anaconda2/envs/py3k/lib/python3.6/site-packages/pandas/core/frame.py\u001b[0m in \u001b[0;36m__getitem__\u001b[0;34m(self, key)\u001b[0m\n\u001b[1;32m   1962\u001b[0m             \u001b[0;32mreturn\u001b[0m \u001b[0mself\u001b[0m\u001b[0;34m.\u001b[0m\u001b[0m_getitem_multilevel\u001b[0m\u001b[0;34m(\u001b[0m\u001b[0mkey\u001b[0m\u001b[0;34m)\u001b[0m\u001b[0;34m\u001b[0m\u001b[0m\n\u001b[1;32m   1963\u001b[0m         \u001b[0;32melse\u001b[0m\u001b[0;34m:\u001b[0m\u001b[0;34m\u001b[0m\u001b[0m\n\u001b[0;32m-> 1964\u001b[0;31m             \u001b[0;32mreturn\u001b[0m \u001b[0mself\u001b[0m\u001b[0;34m.\u001b[0m\u001b[0m_getitem_column\u001b[0m\u001b[0;34m(\u001b[0m\u001b[0mkey\u001b[0m\u001b[0;34m)\u001b[0m\u001b[0;34m\u001b[0m\u001b[0m\n\u001b[0m\u001b[1;32m   1965\u001b[0m \u001b[0;34m\u001b[0m\u001b[0m\n\u001b[1;32m   1966\u001b[0m     \u001b[0;32mdef\u001b[0m \u001b[0m_getitem_column\u001b[0m\u001b[0;34m(\u001b[0m\u001b[0mself\u001b[0m\u001b[0;34m,\u001b[0m \u001b[0mkey\u001b[0m\u001b[0;34m)\u001b[0m\u001b[0;34m:\u001b[0m\u001b[0;34m\u001b[0m\u001b[0m\n",
      "\u001b[0;32m~/anaconda2/envs/py3k/lib/python3.6/site-packages/pandas/core/frame.py\u001b[0m in \u001b[0;36m_getitem_column\u001b[0;34m(self, key)\u001b[0m\n\u001b[1;32m   1969\u001b[0m         \u001b[0;31m# get column\u001b[0m\u001b[0;34m\u001b[0m\u001b[0;34m\u001b[0m\u001b[0m\n\u001b[1;32m   1970\u001b[0m         \u001b[0;32mif\u001b[0m \u001b[0mself\u001b[0m\u001b[0;34m.\u001b[0m\u001b[0mcolumns\u001b[0m\u001b[0;34m.\u001b[0m\u001b[0mis_unique\u001b[0m\u001b[0;34m:\u001b[0m\u001b[0;34m\u001b[0m\u001b[0m\n\u001b[0;32m-> 1971\u001b[0;31m             \u001b[0;32mreturn\u001b[0m \u001b[0mself\u001b[0m\u001b[0;34m.\u001b[0m\u001b[0m_get_item_cache\u001b[0m\u001b[0;34m(\u001b[0m\u001b[0mkey\u001b[0m\u001b[0;34m)\u001b[0m\u001b[0;34m\u001b[0m\u001b[0m\n\u001b[0m\u001b[1;32m   1972\u001b[0m \u001b[0;34m\u001b[0m\u001b[0m\n\u001b[1;32m   1973\u001b[0m         \u001b[0;31m# duplicate columns & possible reduce dimensionality\u001b[0m\u001b[0;34m\u001b[0m\u001b[0;34m\u001b[0m\u001b[0m\n",
      "\u001b[0;32m~/anaconda2/envs/py3k/lib/python3.6/site-packages/pandas/core/generic.py\u001b[0m in \u001b[0;36m_get_item_cache\u001b[0;34m(self, item)\u001b[0m\n\u001b[1;32m   1641\u001b[0m         \u001b[0;34m\"\"\"Return the cached item, item represents a label indexer.\"\"\"\u001b[0m\u001b[0;34m\u001b[0m\u001b[0m\n\u001b[1;32m   1642\u001b[0m         \u001b[0mcache\u001b[0m \u001b[0;34m=\u001b[0m \u001b[0mself\u001b[0m\u001b[0;34m.\u001b[0m\u001b[0m_item_cache\u001b[0m\u001b[0;34m\u001b[0m\u001b[0m\n\u001b[0;32m-> 1643\u001b[0;31m         \u001b[0mres\u001b[0m \u001b[0;34m=\u001b[0m \u001b[0mcache\u001b[0m\u001b[0;34m.\u001b[0m\u001b[0mget\u001b[0m\u001b[0;34m(\u001b[0m\u001b[0mitem\u001b[0m\u001b[0;34m)\u001b[0m\u001b[0;34m\u001b[0m\u001b[0m\n\u001b[0m\u001b[1;32m   1644\u001b[0m         \u001b[0;32mif\u001b[0m \u001b[0mres\u001b[0m \u001b[0;32mis\u001b[0m \u001b[0;32mNone\u001b[0m\u001b[0;34m:\u001b[0m\u001b[0;34m\u001b[0m\u001b[0m\n\u001b[1;32m   1645\u001b[0m             \u001b[0mvalues\u001b[0m \u001b[0;34m=\u001b[0m \u001b[0mself\u001b[0m\u001b[0;34m.\u001b[0m\u001b[0m_data\u001b[0m\u001b[0;34m.\u001b[0m\u001b[0mget\u001b[0m\u001b[0;34m(\u001b[0m\u001b[0mitem\u001b[0m\u001b[0;34m)\u001b[0m\u001b[0;34m\u001b[0m\u001b[0m\n",
      "\u001b[0;31mTypeError\u001b[0m: unhashable type: 'slice'"
     ]
    }
   ],
   "source": [
    "import scipy.stats as stats\n",
    "\n",
    "diabetic = X[:, 17 - 1] == 1\n",
    "stats.f_oneway(Y[diabetic], Y[np.logical_not(diabetic)])"
   ]
  },
  {
   "cell_type": "markdown",
   "metadata": {},
   "source": [
    "Exploratory data analysis using ANOVA:"
   ]
  },
  {
   "cell_type": "markdown",
   "metadata": {},
   "source": [
    "ANOVA indicates a p-value of 0.09, a little promising. Now let's try basic logistic regression:"
   ]
  },
  {
   "cell_type": "code",
   "execution_count": 146,
   "metadata": {},
   "outputs": [
    {
     "data": {
      "text/plain": [
       "(5.6879999999999997, 3.7006369426751591)"
      ]
     },
     "execution_count": 146,
     "metadata": {},
     "output_type": "execute_result"
    }
   ],
   "source": [
    "np.mean(X[Y==1, 50]),np.mean(X[Y==0, 50])"
   ]
  },
  {
   "cell_type": "code",
   "execution_count": 45,
   "metadata": {},
   "outputs": [
    {
     "data": {
      "text/plain": [
       "0      0\n",
       "1      1\n",
       "2      1\n",
       "3      0\n",
       "4      0\n",
       "5      0\n",
       "6      1\n",
       "7      0\n",
       "8      1\n",
       "9      1\n",
       "10     0\n",
       "11     0\n",
       "12     1\n",
       "13     0\n",
       "14     0\n",
       "15     0\n",
       "16     1\n",
       "17     0\n",
       "18     0\n",
       "19     0\n",
       "20     0\n",
       "21     0\n",
       "22     1\n",
       "23     1\n",
       "24     1\n",
       "25     0\n",
       "26     0\n",
       "27     0\n",
       "28     0\n",
       "29     1\n",
       "      ..\n",
       "252    0\n",
       "253    0\n",
       "254    0\n",
       "255    0\n",
       "256    0\n",
       "257    0\n",
       "258    0\n",
       "259    1\n",
       "260    0\n",
       "261    1\n",
       "262    0\n",
       "263    0\n",
       "264    1\n",
       "265    1\n",
       "266    1\n",
       "267    1\n",
       "268    1\n",
       "269    0\n",
       "270    1\n",
       "271    0\n",
       "272    1\n",
       "273    0\n",
       "274    1\n",
       "275    0\n",
       "276    0\n",
       "277    0\n",
       "278    1\n",
       "279    0\n",
       "280    1\n",
       "281    0\n",
       "Name: 1, Length: 282, dtype: int64"
      ]
     },
     "execution_count": 45,
     "metadata": {},
     "output_type": "execute_result"
    }
   ],
   "source": [
    "Y"
   ]
  },
  {
   "cell_type": "code",
   "execution_count": 58,
   "metadata": {},
   "outputs": [
    {
     "data": {
      "text/plain": [
       "array([   0.,    1.,    2.,    3.,    4.,    5.,    6.,    7.,    8.,\n",
       "          9.,   10.,   11.,   12.,   13.,   14.,   15.,   16.,   17.,\n",
       "         18.,   19.,   20.,   21.,   22.,   23.,   24.,   25.,   26.,\n",
       "         27.,   28.,   29.,   30.,   31.,   32.,   33.,   34.,   35.,\n",
       "         36.,   37.,   38.,   39.,   40.,   41.,   42.,   43.,   44.,\n",
       "         45.,   46.,   47.,   48.,   49.,   50.,   51.,   52.,   53.,\n",
       "         54.,   55.,   56.,   57.,   58.,   59.,   60.,   61.,   62.,\n",
       "         63.,   64.,   65.,   66.,   67.,   68.,   69.,   70.,   71.,\n",
       "         72.,   73.,   74.,   75.,   76.,   77.,   78.,   79.,   80.,\n",
       "         81.,   82.,   83.,   84.,   85.,   86.,   87.,   88.,   89.,\n",
       "         90.,   91.,   92.,   93.,   94.,   95.,   96.,   97.,   98.,\n",
       "         99.,  100.,  101.,  102.,  103.,  104.,  105.,  106.,  107.,\n",
       "        108.,  109.,  110.,  111.,  112.,  113.,  114.,  115.,  116.,\n",
       "        117.,  118.,  119.,  120.,  121.,  122.,  123.,  124.,  125.,\n",
       "        126.,  127.,  128.,  129.,  130.,  131.,  132.,  133.,  134.,\n",
       "        135.,  136.,  137.,  138.,  139.,  140.,  141.,  142.,  143.,\n",
       "        144.,  145.,  146.,  147.,  148.,  149.,  150.,  151.,  152.,\n",
       "        153.,  154.,  155.,  156.,  157.,  158.,  159.,  160.,  161.,\n",
       "        162.,  163.,  164.,  165.,  166.,  167.,  168.,  169.,  170.,\n",
       "        171.,  172.,  173.,  174.,  175.,  176.,  177.,  178.,  179.,\n",
       "        180.,  181.,  182.,  183.,  184.,  185.,  186.,  187.,  188.,\n",
       "        189.,  190.,  191.,  192.,  193.,  194.,  195.,  196.,  197.,\n",
       "        198.,  199.,  200.,  201.,  202.,  203.,  204.,  205.,  206.,\n",
       "        207.,  208.,  209.,  210.,  211.,  212.,  213.,  214.,  215.,\n",
       "        216.,  217.,  218.,  219.,  220.,  221.,  222.,  223.,  224.,\n",
       "        225.,  226.,  227.,  228.,  229.,  230.,  231.,  232.,  233.,\n",
       "        234.,  235.,  236.,  237.,  238.,  239.,  240.,  241.,  242.,\n",
       "        243.,  244.,  245.,  246.,  247.,  248.,  249.,  250.,  251.,\n",
       "        252.,  253.,  254.,  255.,  256.,  257.,  258.,  259.,  260.,\n",
       "        261.,  262.,  263.,  264.,  265.,  266.,  267.,  268.,  269.,\n",
       "        270.,  271.,  272.,  273.,  274.,  275.,  276.,  277.,  278.,\n",
       "        279.,  280.,  281.])"
      ]
     },
     "execution_count": 58,
     "metadata": {},
     "output_type": "execute_result"
    }
   ],
   "source": [
    "X"
   ]
  },
  {
   "cell_type": "code",
   "execution_count": 64,
   "metadata": {},
   "outputs": [
    {
     "data": {
      "text/plain": [
       "Index(['Unnamed: 0', 'id', 'age', 'sex', 'trestbps', 'htn', 'chol', 'cigs',\n",
       "       'years', 'fbs', 'dm', 'famhist', 'ekgmo', 'ekgday', 'ekgyr', 'dig',\n",
       "       'prop', 'nitr', 'pro', 'diuretic', 'thaldur', 'thaltime', 'met',\n",
       "       'thalach', 'thalrest', 'tpeakbps', 'tpeakbpd', 'dummy', 'trestbpd',\n",
       "       'exang', 'xhypo', 'oldpeak', 'rldv5e', 'ca', 'thal', 'cmo', 'cday',\n",
       "       'cyr', 'lvx3', 'lvx4', 'lvf', 'cp1', 'cp4', 'cp3', 'cp2', 'restecg2',\n",
       "       'restecg0', 'restecg1', 'slope3', 'slope2', 'slope1', 'dm_invalid'],\n",
       "      dtype='object')"
      ]
     },
     "execution_count": 64,
     "metadata": {},
     "output_type": "execute_result"
    }
   ],
   "source": [
    "X_pd.keys()"
   ]
  },
  {
   "cell_type": "code",
   "execution_count": 35,
   "metadata": {},
   "outputs": [
    {
     "data": {
      "text/plain": [
       "'lvx3'"
      ]
     },
     "execution_count": 35,
     "metadata": {},
     "output_type": "execute_result"
    }
   ],
   "source": [
    "X_pd.keys()[36]"
   ]
  },
  {
   "cell_type": "code",
   "execution_count": null,
   "metadata": {
    "collapsed": true
   },
   "outputs": [],
   "source": []
  }
 ],
 "metadata": {
  "kernelspec": {
   "display_name": "Python 3",
   "language": "python",
   "name": "python3"
  },
  "language_info": {
   "codemirror_mode": {
    "name": "ipython",
    "version": 3
   },
   "file_extension": ".py",
   "mimetype": "text/x-python",
   "name": "python",
   "nbconvert_exporter": "python",
   "pygments_lexer": "ipython3",
   "version": "3.6.3"
  }
 },
 "nbformat": 4,
 "nbformat_minor": 2
}
